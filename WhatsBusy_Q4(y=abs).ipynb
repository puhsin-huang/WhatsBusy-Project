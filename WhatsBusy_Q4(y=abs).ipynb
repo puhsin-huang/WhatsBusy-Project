{
 "cells": [
  {
   "cell_type": "markdown",
   "metadata": {},
   "source": [
    "## Problem Statement. \n",
    "\n",
    "Suppose you have data about the daily number of visitors of some restaurant. See test_restaurant.csv. Research the provided dataset, and create a forecast model for 1 day forward.\n"
   ]
  },
  {
   "cell_type": "markdown",
   "metadata": {},
   "source": [
    "## Step1: Conduct Exploratory Analysis\n",
    "\n",
    "- After importing the data, I looked at the fluctuation of the daily number of visitors and found that there is a consistent yearly pattern. This finding gives me some idea about what kind of variables I want to create later.\n",
    "\n",
    "- I remove data with negative number of visitors. I assumed that they are labeled incorrectly."
   ]
  },
  {
   "cell_type": "code",
   "execution_count": 2,
   "metadata": {},
   "outputs": [],
   "source": [
    "import pandas as pd\n",
    "import numpy as np\n",
    "import matplotlib.pyplot as plt\n",
    "from pandas.plotting import register_matplotlib_converters"
   ]
  },
  {
   "cell_type": "code",
   "execution_count": 3,
   "metadata": {},
   "outputs": [
    {
     "data": {
      "text/plain": [
       "[<matplotlib.lines.Line2D at 0x11d8c0390>]"
      ]
     },
     "execution_count": 3,
     "metadata": {},
     "output_type": "execute_result"
    },
    {
     "data": {
      "image/png": "[encoded data removed]",
      "text/plain": [
       "<Figure size 432x288 with 1 Axes>"
      ]
     },
     "metadata": {
      "needs_background": "light"
     },
     "output_type": "display_data"
    }
   ],
   "source": [
    "register_matplotlib_converters()\n",
    "restaurant=pd.read_csv('test_restaurant.csv')\n",
    "restaurant['date']=pd.to_datetime(restaurant['date'])\n",
    "plt.plot(restaurant['date'],restaurant['num_visitors'])"
   ]
  },
  {
   "cell_type": "code",
   "execution_count": 4,
   "metadata": {},
   "outputs": [
    {
     "data": {
      "text/html": [
       "<div>\n",
       "<style scoped>\n",
       "    .dataframe tbody tr th:only-of-type {\n",
       "        vertical-align: middle;\n",
       "    }\n",
       "\n",
       "    .dataframe tbody tr th {\n",
       "        vertical-align: top;\n",
       "    }\n",
       "\n",
       "    .dataframe thead th {\n",
       "        text-align: right;\n",
       "    }\n",
       "</style>\n",
       "<table border=\"1\" class=\"dataframe\">\n",
       "  <thead>\n",
       "    <tr style=\"text-align: right;\">\n",
       "      <th></th>\n",
       "      <th>num_visitors</th>\n",
       "    </tr>\n",
       "  </thead>\n",
       "  <tbody>\n",
       "    <tr>\n",
       "      <th>count</th>\n",
       "      <td>3651.000000</td>\n",
       "    </tr>\n",
       "    <tr>\n",
       "      <th>mean</th>\n",
       "      <td>24.782759</td>\n",
       "    </tr>\n",
       "    <tr>\n",
       "      <th>std</th>\n",
       "      <td>11.188746</td>\n",
       "    </tr>\n",
       "    <tr>\n",
       "      <th>min</th>\n",
       "      <td>-7.867497</td>\n",
       "    </tr>\n",
       "    <tr>\n",
       "      <th>25%</th>\n",
       "      <td>17.042217</td>\n",
       "    </tr>\n",
       "    <tr>\n",
       "      <th>50%</th>\n",
       "      <td>22.950304</td>\n",
       "    </tr>\n",
       "    <tr>\n",
       "      <th>75%</th>\n",
       "      <td>29.260646</td>\n",
       "    </tr>\n",
       "    <tr>\n",
       "      <th>max</th>\n",
       "      <td>69.849130</td>\n",
       "    </tr>\n",
       "  </tbody>\n",
       "</table>\n",
       "</div>"
      ],
      "text/plain": [
       "       num_visitors\n",
       "count   3651.000000\n",
       "mean      24.782759\n",
       "std       11.188746\n",
       "min       -7.867497\n",
       "25%       17.042217\n",
       "50%       22.950304\n",
       "75%       29.260646\n",
       "max       69.849130"
      ]
     },
     "execution_count": 4,
     "metadata": {},
     "output_type": "execute_result"
    }
   ],
   "source": [
    "restaurant.describe()"
   ]
  },
  {
   "cell_type": "code",
   "execution_count": 5,
   "metadata": {},
   "outputs": [
    {
     "data": {
      "text/html": [
       "<div>\n",
       "<style scoped>\n",
       "    .dataframe tbody tr th:only-of-type {\n",
       "        vertical-align: middle;\n",
       "    }\n",
       "\n",
       "    .dataframe tbody tr th {\n",
       "        vertical-align: top;\n",
       "    }\n",
       "\n",
       "    .dataframe thead th {\n",
       "        text-align: right;\n",
       "    }\n",
       "</style>\n",
       "<table border=\"1\" class=\"dataframe\">\n",
       "  <thead>\n",
       "    <tr style=\"text-align: right;\">\n",
       "      <th></th>\n",
       "      <th>num_visitors</th>\n",
       "    </tr>\n",
       "  </thead>\n",
       "  <tbody>\n",
       "    <tr>\n",
       "      <th>count</th>\n",
       "      <td>3649.000000</td>\n",
       "    </tr>\n",
       "    <tr>\n",
       "      <th>mean</th>\n",
       "      <td>24.798853</td>\n",
       "    </tr>\n",
       "    <tr>\n",
       "      <th>std</th>\n",
       "      <td>11.170399</td>\n",
       "    </tr>\n",
       "    <tr>\n",
       "      <th>min</th>\n",
       "      <td>0.181759</td>\n",
       "    </tr>\n",
       "    <tr>\n",
       "      <th>25%</th>\n",
       "      <td>17.052917</td>\n",
       "    </tr>\n",
       "    <tr>\n",
       "      <th>50%</th>\n",
       "      <td>22.961277</td>\n",
       "    </tr>\n",
       "    <tr>\n",
       "      <th>75%</th>\n",
       "      <td>29.262848</td>\n",
       "    </tr>\n",
       "    <tr>\n",
       "      <th>max</th>\n",
       "      <td>69.849130</td>\n",
       "    </tr>\n",
       "  </tbody>\n",
       "</table>\n",
       "</div>"
      ],
      "text/plain": [
       "       num_visitors\n",
       "count   3649.000000\n",
       "mean      24.798853\n",
       "std       11.170399\n",
       "min        0.181759\n",
       "25%       17.052917\n",
       "50%       22.961277\n",
       "75%       29.262848\n",
       "max       69.849130"
      ]
     },
     "execution_count": 5,
     "metadata": {},
     "output_type": "execute_result"
    }
   ],
   "source": [
    "data=restaurant.copy()\n",
    "data=restaurant[restaurant['num_visitors']>=0]\n",
    "data.describe()"
   ]
  },
  {
   "cell_type": "markdown",
   "metadata": {},
   "source": [
    "## Step2: Feature engineering\n",
    "\n",
    "15 variables created:\n",
    "\n",
    "#### 1. Using 'date'to create 'day', 'month', and 'year', and perform target encoding (3 vars): \n",
    "\n",
    "since there are obvious annual and monthly pattern observed, I create new variables 'day', 'month', and 'year'. I did not do one-hot encoding because that will increase a lot of dimensionality. Instead, I performed target encoding. That is, I group by the same entity and replace the value with the average of y of that entity. For example, I replace \"month: 1\" with the average of num_visitors of all observations with the month variable being 1.\n",
    "\n",
    "#### 2. Using sliding time window(n day) to calculate the avg, max, and min of the past n days (12 vars): \n",
    "\n",
    "- time window used: 3,7,14,30\n",
    "\n",
    "- measurements used: avg, max, min\n",
    "\n",
    "so 4 time windows * 3 measurement = 12 varaibles"
   ]
  },
  {
   "cell_type": "code",
   "execution_count": 7,
   "metadata": {},
   "outputs": [
    {
     "data": {
      "text/html": [
       "<div>\n",
       "<style scoped>\n",
       "    .dataframe tbody tr th:only-of-type {\n",
       "        vertical-align: middle;\n",
       "    }\n",
       "\n",
       "    .dataframe tbody tr th {\n",
       "        vertical-align: top;\n",
       "    }\n",
       "\n",
       "    .dataframe thead th {\n",
       "        text-align: right;\n",
       "    }\n",
       "</style>\n",
       "<table border=\"1\" class=\"dataframe\">\n",
       "  <thead>\n",
       "    <tr style=\"text-align: right;\">\n",
       "      <th></th>\n",
       "      <th>date</th>\n",
       "      <th>num_visitors</th>\n",
       "      <th>day</th>\n",
       "      <th>month</th>\n",
       "      <th>year</th>\n",
       "    </tr>\n",
       "  </thead>\n",
       "  <tbody>\n",
       "    <tr>\n",
       "      <th>0</th>\n",
       "      <td>2000-01-01</td>\n",
       "      <td>49.12849</td>\n",
       "      <td>5</td>\n",
       "      <td>1</td>\n",
       "      <td>2000</td>\n",
       "    </tr>\n",
       "  </tbody>\n",
       "</table>\n",
       "</div>"
      ],
      "text/plain": [
       "        date  num_visitors  day  month  year\n",
       "0 2000-01-01      49.12849    5      1  2000"
      ]
     },
     "execution_count": 7,
     "metadata": {},
     "output_type": "execute_result"
    }
   ],
   "source": [
    "data.loc[:,'day']=data.loc[:,'date'].apply(lambda x:x.weekday())\n",
    "data.loc[:,'month']=data.loc[:,'date'].apply(lambda x:x.month)\n",
    "data.loc[:,'year']=data.loc[:,'date'].apply(lambda x:x.year)\n",
    "data.head(1)"
   ]
  },
  {
   "cell_type": "code",
   "execution_count": 8,
   "metadata": {},
   "outputs": [
    {
     "data": {
      "text/html": [
       "<div>\n",
       "<style scoped>\n",
       "    .dataframe tbody tr th:only-of-type {\n",
       "        vertical-align: middle;\n",
       "    }\n",
       "\n",
       "    .dataframe tbody tr th {\n",
       "        vertical-align: top;\n",
       "    }\n",
       "\n",
       "    .dataframe thead th {\n",
       "        text-align: right;\n",
       "    }\n",
       "</style>\n",
       "<table border=\"1\" class=\"dataframe\">\n",
       "  <thead>\n",
       "    <tr style=\"text-align: right;\">\n",
       "      <th></th>\n",
       "      <th>date</th>\n",
       "      <th>num_visitors</th>\n",
       "      <th>day</th>\n",
       "      <th>month</th>\n",
       "      <th>year</th>\n",
       "      <th>TE_day</th>\n",
       "      <th>TE_month</th>\n",
       "      <th>TE_year</th>\n",
       "    </tr>\n",
       "  </thead>\n",
       "  <tbody>\n",
       "    <tr>\n",
       "      <th>0</th>\n",
       "      <td>2000-01-01</td>\n",
       "      <td>49.12849</td>\n",
       "      <td>5</td>\n",
       "      <td>1</td>\n",
       "      <td>2000</td>\n",
       "      <td>24.641221</td>\n",
       "      <td>41.713472</td>\n",
       "      <td>16.510188</td>\n",
       "    </tr>\n",
       "  </tbody>\n",
       "</table>\n",
       "</div>"
      ],
      "text/plain": [
       "        date  num_visitors  day  month  year     TE_day   TE_month    TE_year\n",
       "0 2000-01-01      49.12849    5      1  2000  24.641221  41.713472  16.510188"
      ]
     },
     "execution_count": 8,
     "metadata": {},
     "output_type": "execute_result"
    }
   ],
   "source": [
    "### transforming \"day\"\n",
    "TE_day=data.groupby('day')['num_visitors'].mean()\n",
    "\n",
    "TE_dict={}\n",
    "for i in range(len(TE_day)):\n",
    "    TE_dict[TE_day.index[i]]=TE_day.values[i]\n",
    "\n",
    "data.loc[:,'TE_day']=data['day'].map(TE_dict)\n",
    "\n",
    "### transforming \"month\"\n",
    "TE_month=data.groupby('month')['num_visitors'].mean()\n",
    "\n",
    "TE_dict={}\n",
    "for i in range(len(TE_month)):\n",
    "    TE_dict[TE_month.index[i]]=TE_month.values[i]\n",
    "\n",
    "data.loc[:,'TE_month']=data['month'].map(TE_dict)\n",
    "\n",
    "\n",
    "### transforming \"year\"\n",
    "TE_year=data.groupby('year')['num_visitors'].mean()\n",
    "\n",
    "TE_dict={}\n",
    "for i in range(len(TE_year)):\n",
    "    TE_dict[TE_year.index[i]]=TE_year.values[i]\n",
    "\n",
    "data.loc[:,'TE_year']=data['year'].map(TE_dict)\n",
    "\n",
    "data.head(1)"
   ]
  },
  {
   "cell_type": "code",
   "execution_count": 10,
   "metadata": {},
   "outputs": [
    {
     "data": {
      "text/html": [
       "<div>\n",
       "<style scoped>\n",
       "    .dataframe tbody tr th:only-of-type {\n",
       "        vertical-align: middle;\n",
       "    }\n",
       "\n",
       "    .dataframe tbody tr th {\n",
       "        vertical-align: top;\n",
       "    }\n",
       "\n",
       "    .dataframe thead th {\n",
       "        text-align: right;\n",
       "    }\n",
       "</style>\n",
       "<table border=\"1\" class=\"dataframe\">\n",
       "  <thead>\n",
       "    <tr style=\"text-align: right;\">\n",
       "      <th></th>\n",
       "      <th>date</th>\n",
       "      <th>num_visitors</th>\n",
       "      <th>day</th>\n",
       "      <th>month</th>\n",
       "      <th>year</th>\n",
       "      <th>TE_day</th>\n",
       "      <th>TE_month</th>\n",
       "      <th>TE_year</th>\n",
       "      <th>past_3D_AVG</th>\n",
       "      <th>past_7D_AVG</th>\n",
       "      <th>past_14D_AVG</th>\n",
       "      <th>past_30D_AVG</th>\n",
       "      <th>past_3D_MAX</th>\n",
       "      <th>past_7D_MAX</th>\n",
       "      <th>past_14D_MAX</th>\n",
       "      <th>past_30D_MAX</th>\n",
       "      <th>past_3D_MIN</th>\n",
       "      <th>past_7D_MIN</th>\n",
       "      <th>past_14D_MIN</th>\n",
       "      <th>past_30D_MIN</th>\n",
       "    </tr>\n",
       "  </thead>\n",
       "  <tbody>\n",
       "    <tr>\n",
       "      <th>0</th>\n",
       "      <td>2000-01-01</td>\n",
       "      <td>49.128490</td>\n",
       "      <td>5.0</td>\n",
       "      <td>1.0</td>\n",
       "      <td>2000.0</td>\n",
       "      <td>24.641221</td>\n",
       "      <td>41.713472</td>\n",
       "      <td>16.510188</td>\n",
       "      <td>NaN</td>\n",
       "      <td>NaN</td>\n",
       "      <td>NaN</td>\n",
       "      <td>NaN</td>\n",
       "      <td>NaN</td>\n",
       "      <td>NaN</td>\n",
       "      <td>NaN</td>\n",
       "      <td>NaN</td>\n",
       "      <td>NaN</td>\n",
       "      <td>NaN</td>\n",
       "      <td>NaN</td>\n",
       "      <td>NaN</td>\n",
       "    </tr>\n",
       "    <tr>\n",
       "      <th>1</th>\n",
       "      <td>2000-01-02</td>\n",
       "      <td>50.288060</td>\n",
       "      <td>6.0</td>\n",
       "      <td>1.0</td>\n",
       "      <td>2000.0</td>\n",
       "      <td>24.776514</td>\n",
       "      <td>41.713472</td>\n",
       "      <td>16.510188</td>\n",
       "      <td>NaN</td>\n",
       "      <td>NaN</td>\n",
       "      <td>NaN</td>\n",
       "      <td>NaN</td>\n",
       "      <td>NaN</td>\n",
       "      <td>NaN</td>\n",
       "      <td>NaN</td>\n",
       "      <td>NaN</td>\n",
       "      <td>NaN</td>\n",
       "      <td>NaN</td>\n",
       "      <td>NaN</td>\n",
       "      <td>NaN</td>\n",
       "    </tr>\n",
       "    <tr>\n",
       "      <th>2</th>\n",
       "      <td>2000-01-03</td>\n",
       "      <td>53.549213</td>\n",
       "      <td>0.0</td>\n",
       "      <td>1.0</td>\n",
       "      <td>2000.0</td>\n",
       "      <td>24.983884</td>\n",
       "      <td>41.713472</td>\n",
       "      <td>16.510188</td>\n",
       "      <td>NaN</td>\n",
       "      <td>NaN</td>\n",
       "      <td>NaN</td>\n",
       "      <td>NaN</td>\n",
       "      <td>NaN</td>\n",
       "      <td>NaN</td>\n",
       "      <td>NaN</td>\n",
       "      <td>NaN</td>\n",
       "      <td>NaN</td>\n",
       "      <td>NaN</td>\n",
       "      <td>NaN</td>\n",
       "      <td>NaN</td>\n",
       "    </tr>\n",
       "    <tr>\n",
       "      <th>3</th>\n",
       "      <td>2000-01-04</td>\n",
       "      <td>45.453240</td>\n",
       "      <td>1.0</td>\n",
       "      <td>1.0</td>\n",
       "      <td>2000.0</td>\n",
       "      <td>24.902862</td>\n",
       "      <td>41.713472</td>\n",
       "      <td>16.510188</td>\n",
       "      <td>50.988588</td>\n",
       "      <td>NaN</td>\n",
       "      <td>NaN</td>\n",
       "      <td>NaN</td>\n",
       "      <td>53.549213</td>\n",
       "      <td>NaN</td>\n",
       "      <td>NaN</td>\n",
       "      <td>NaN</td>\n",
       "      <td>49.12849</td>\n",
       "      <td>NaN</td>\n",
       "      <td>NaN</td>\n",
       "      <td>NaN</td>\n",
       "    </tr>\n",
       "    <tr>\n",
       "      <th>4</th>\n",
       "      <td>2000-01-05</td>\n",
       "      <td>49.469402</td>\n",
       "      <td>2.0</td>\n",
       "      <td>1.0</td>\n",
       "      <td>2000.0</td>\n",
       "      <td>24.929534</td>\n",
       "      <td>41.713472</td>\n",
       "      <td>16.510188</td>\n",
       "      <td>49.763504</td>\n",
       "      <td>NaN</td>\n",
       "      <td>NaN</td>\n",
       "      <td>NaN</td>\n",
       "      <td>53.549213</td>\n",
       "      <td>NaN</td>\n",
       "      <td>NaN</td>\n",
       "      <td>NaN</td>\n",
       "      <td>45.45324</td>\n",
       "      <td>NaN</td>\n",
       "      <td>NaN</td>\n",
       "      <td>NaN</td>\n",
       "    </tr>\n",
       "    <tr>\n",
       "      <th>5</th>\n",
       "      <td>2000-01-06</td>\n",
       "      <td>48.554940</td>\n",
       "      <td>3.0</td>\n",
       "      <td>1.0</td>\n",
       "      <td>2000.0</td>\n",
       "      <td>24.716794</td>\n",
       "      <td>41.713472</td>\n",
       "      <td>16.510188</td>\n",
       "      <td>49.490618</td>\n",
       "      <td>NaN</td>\n",
       "      <td>NaN</td>\n",
       "      <td>NaN</td>\n",
       "      <td>53.549213</td>\n",
       "      <td>NaN</td>\n",
       "      <td>NaN</td>\n",
       "      <td>NaN</td>\n",
       "      <td>45.45324</td>\n",
       "      <td>NaN</td>\n",
       "      <td>NaN</td>\n",
       "      <td>NaN</td>\n",
       "    </tr>\n",
       "    <tr>\n",
       "      <th>6</th>\n",
       "      <td>2000-01-07</td>\n",
       "      <td>47.056410</td>\n",
       "      <td>4.0</td>\n",
       "      <td>1.0</td>\n",
       "      <td>2000.0</td>\n",
       "      <td>24.641266</td>\n",
       "      <td>41.713472</td>\n",
       "      <td>16.510188</td>\n",
       "      <td>47.825861</td>\n",
       "      <td>NaN</td>\n",
       "      <td>NaN</td>\n",
       "      <td>NaN</td>\n",
       "      <td>49.469402</td>\n",
       "      <td>NaN</td>\n",
       "      <td>NaN</td>\n",
       "      <td>NaN</td>\n",
       "      <td>45.45324</td>\n",
       "      <td>NaN</td>\n",
       "      <td>NaN</td>\n",
       "      <td>NaN</td>\n",
       "    </tr>\n",
       "    <tr>\n",
       "      <th>7</th>\n",
       "      <td>2000-01-08</td>\n",
       "      <td>44.184040</td>\n",
       "      <td>5.0</td>\n",
       "      <td>1.0</td>\n",
       "      <td>2000.0</td>\n",
       "      <td>24.641221</td>\n",
       "      <td>41.713472</td>\n",
       "      <td>16.510188</td>\n",
       "      <td>48.360251</td>\n",
       "      <td>49.071394</td>\n",
       "      <td>NaN</td>\n",
       "      <td>NaN</td>\n",
       "      <td>49.469402</td>\n",
       "      <td>53.549213</td>\n",
       "      <td>NaN</td>\n",
       "      <td>NaN</td>\n",
       "      <td>47.05641</td>\n",
       "      <td>45.45324</td>\n",
       "      <td>NaN</td>\n",
       "      <td>NaN</td>\n",
       "    </tr>\n",
       "  </tbody>\n",
       "</table>\n",
       "</div>"
      ],
      "text/plain": [
       "        date  num_visitors  day  month    year     TE_day   TE_month  \\\n",
       "0 2000-01-01     49.128490  5.0    1.0  2000.0  24.641221  41.713472   \n",
       "1 2000-01-02     50.288060  6.0    1.0  2000.0  24.776514  41.713472   \n",
       "2 2000-01-03     53.549213  0.0    1.0  2000.0  24.983884  41.713472   \n",
       "3 2000-01-04     45.453240  1.0    1.0  2000.0  24.902862  41.713472   \n",
       "4 2000-01-05     49.469402  2.0    1.0  2000.0  24.929534  41.713472   \n",
       "5 2000-01-06     48.554940  3.0    1.0  2000.0  24.716794  41.713472   \n",
       "6 2000-01-07     47.056410  4.0    1.0  2000.0  24.641266  41.713472   \n",
       "7 2000-01-08     44.184040  5.0    1.0  2000.0  24.641221  41.713472   \n",
       "\n",
       "     TE_year  past_3D_AVG  past_7D_AVG  past_14D_AVG  past_30D_AVG  \\\n",
       "0  16.510188          NaN          NaN           NaN           NaN   \n",
       "1  16.510188          NaN          NaN           NaN           NaN   \n",
       "2  16.510188          NaN          NaN           NaN           NaN   \n",
       "3  16.510188    50.988588          NaN           NaN           NaN   \n",
       "4  16.510188    49.763504          NaN           NaN           NaN   \n",
       "5  16.510188    49.490618          NaN           NaN           NaN   \n",
       "6  16.510188    47.825861          NaN           NaN           NaN   \n",
       "7  16.510188    48.360251    49.071394           NaN           NaN   \n",
       "\n",
       "   past_3D_MAX  past_7D_MAX  past_14D_MAX  past_30D_MAX  past_3D_MIN  \\\n",
       "0          NaN          NaN           NaN           NaN          NaN   \n",
       "1          NaN          NaN           NaN           NaN          NaN   \n",
       "2          NaN          NaN           NaN           NaN          NaN   \n",
       "3    53.549213          NaN           NaN           NaN     49.12849   \n",
       "4    53.549213          NaN           NaN           NaN     45.45324   \n",
       "5    53.549213          NaN           NaN           NaN     45.45324   \n",
       "6    49.469402          NaN           NaN           NaN     45.45324   \n",
       "7    49.469402    53.549213           NaN           NaN     47.05641   \n",
       "\n",
       "   past_7D_MIN  past_14D_MIN  past_30D_MIN  \n",
       "0          NaN           NaN           NaN  \n",
       "1          NaN           NaN           NaN  \n",
       "2          NaN           NaN           NaN  \n",
       "3          NaN           NaN           NaN  \n",
       "4          NaN           NaN           NaN  \n",
       "5          NaN           NaN           NaN  \n",
       "6          NaN           NaN           NaN  \n",
       "7     45.45324           NaN           NaN  "
      ]
     },
     "execution_count": 10,
     "metadata": {},
     "output_type": "execute_result"
    }
   ],
   "source": [
    "avg_dic={'past_3D_AVG':3,'past_7D_AVG':7,'past_14D_AVG':14,'past_30D_AVG':30}\n",
    "for k,v in avg_dic.items():\n",
    "    for day in range(data.shape[0]-v):\n",
    "        data.loc[day+v,k]=data.loc[day:day+v-1,'num_visitors'].mean()\n",
    "\n",
    "max_dic={'past_3D_MAX':3,'past_7D_MAX':7,'past_14D_MAX':14,'past_30D_MAX':30}\n",
    "for k,v in max_dic.items():\n",
    "    for day in range(data.shape[0]-v):\n",
    "        data.loc[day+v,k]=data.loc[day:day+v-1,'num_visitors'].max()\n",
    "\n",
    "min_dic={'past_3D_MIN':3,'past_7D_MIN':7,'past_14D_MIN':14,'past_30D_MIN':30}\n",
    "for k,v in min_dic.items():\n",
    "    for day in range(data.shape[0]-v):\n",
    "        data.loc[day+v,k]=data.loc[day:day+v-1,'num_visitors'].min()\n",
    "data.head(8)"
   ]
  },
  {
   "cell_type": "markdown",
   "metadata": {},
   "source": [
    "## Step3: Feature Selection\n",
    "\n",
    "- I dropped the first month data since they do not have the past_30_day-related variables. I also dropped a few records with missing values.\n",
    "\n",
    "- I seperated the train and OOT(out of time) set. The former includes data before '2018-01-01' and the later includes data after '2018-01-01'. I will only use the train set to select features and train the models. OOT is used to see the performance of the selected model.\n",
    "\n",
    "- I performed recursive feature elimination to cut down variables and avoid Multicollinearity. I used linear regression to fit the models and selected 7 engineered features."
   ]
  },
  {
   "cell_type": "code",
   "execution_count": 11,
   "metadata": {},
   "outputs": [],
   "source": [
    "clean_data=data.dropna() #drop the first month value & other missing values"
   ]
  },
  {
   "cell_type": "code",
   "execution_count": 13,
   "metadata": {},
   "outputs": [],
   "source": [
    "train=clean_data[clean_data['date']<'2008-01-01'].drop(['day','month','year'],axis=1)\n",
    "OOT=clean_data[clean_data['date']>='2008-01-01'].drop(['day','month','year'],axis=1)\n",
    "train=train.dropna()"
   ]
  },
  {
   "cell_type": "code",
   "execution_count": 17,
   "metadata": {},
   "outputs": [],
   "source": [
    "x_train,y_train= train.loc[:,'TE_day':], train.loc[:,'num_visitors']"
   ]
  },
  {
   "cell_type": "code",
   "execution_count": 18,
   "metadata": {},
   "outputs": [
    {
     "data": {
      "text/plain": [
       "Index(['TE_day', 'TE_month', 'TE_year', 'past_3D_AVG', 'past_30D_AVG',\n",
       "       'past_3D_MAX', 'past_7D_MAX'],\n",
       "      dtype='object')"
      ]
     },
     "execution_count": 18,
     "metadata": {},
     "output_type": "execute_result"
    }
   ],
   "source": [
    "from sklearn.linear_model import LinearRegression\n",
    "from sklearn.feature_selection import RFE\n",
    "estimator = LinearRegression()\n",
    "selector = RFE(estimator, 7, step=1)\n",
    "selector = selector.fit(x_train, y_train)\n",
    "select_bool=selector.support_\n",
    "selected_fields=x_train.columns[select_bool]\n",
    "selected_fields"
   ]
  },
  {
   "cell_type": "markdown",
   "metadata": {},
   "source": [
    "## Step4: Select the best model\n",
    "\n",
    "- I use a 60-day time window to predict one day ahead, and do this repeatedly until the training set exhausts. For every record I predicted, I will get its squared error.\n",
    "\n",
    "- I tried Linear Regression, Random Forest, Gradient boosting, Neural netwrok with differenct combinations of parameters, and identify the best sets of parameters that lead to the lowest mean squared error for each algorithm. Then, I compared the algorithms and chose the one with the lowest MSE."
   ]
  },
  {
   "cell_type": "code",
   "execution_count": 19,
   "metadata": {},
   "outputs": [],
   "source": [
    "from sklearn.linear_model import LinearRegression\n",
    "LR={}\n",
    "LR[0]=LinearRegression()"
   ]
  },
  {
   "cell_type": "code",
   "execution_count": 20,
   "metadata": {},
   "outputs": [],
   "source": [
    "from sklearn.ensemble import RandomForestRegressor\n",
    "\n",
    "RF={}\n",
    "n=0\n",
    "for max_depth in [4,5,6]:\n",
    "    for n_estimators in [100,200,500,1000]:\n",
    "        for max_features in [6,7]:\n",
    "            n+=1\n",
    "            RF[n]=RandomForestRegressor(\n",
    "                        max_depth=max_depth,\n",
    "                        n_estimators=n_estimators,\n",
    "                        max_features=max_features)"
   ]
  },
  {
   "cell_type": "code",
   "execution_count": 21,
   "metadata": {},
   "outputs": [],
   "source": [
    "from sklearn import ensemble\n",
    "\n",
    "GRB={}\n",
    "n=0\n",
    "\n",
    "for max_depth in [1,2,3,4,5]:\n",
    "    for n_estimators in [100,200,500,1000]:\n",
    "        for learning_rate in [0.1]:\n",
    "            n+=1\n",
    "            GRB[n]=ensemble.GradientBoostingRegressor(\n",
    "                        max_depth=max_depth,\n",
    "                        n_estimators=n_estimators,\n",
    "                        learning_rate=learning_rate)"
   ]
  },
  {
   "cell_type": "code",
   "execution_count": 22,
   "metadata": {},
   "outputs": [],
   "source": [
    "from sklearn import ensemble\n",
    "\n",
    "GRB={}\n",
    "n=0\n",
    "\n",
    "for max_depth in [1,2,3,4,5]:\n",
    "    for n_estimators in [100,200,500,1000]:\n",
    "        for learning_rate in [0.1]:\n",
    "            n+=1\n",
    "            GRB[n]=ensemble.GradientBoostingRegressor(\n",
    "                        max_depth=max_depth,\n",
    "                        n_estimators=n_estimators,\n",
    "                        learning_rate=learning_rate)"
   ]
  },
  {
   "cell_type": "code",
   "execution_count": 23,
   "metadata": {},
   "outputs": [],
   "source": [
    "from sklearn.neural_network import MLPRegressor\n",
    "\n",
    "NN={}\n",
    "n=0\n",
    "\n",
    "for hidden_layer_sizes in [2,3]:\n",
    "    for solver in ['sgd', 'adam']:\n",
    "        for learning_rate in ['constant','adaptive']:\n",
    "            for max_iter in [100000]:\n",
    "                n+=1\n",
    "                NN[n]=MLPRegressor(hidden_layer_sizes=hidden_layer_sizes,\n",
    "                                   solver=solver,\n",
    "                                   learning_rate=learning_rate,\n",
    "                                   max_iter=max_iter)"
   ]
  },
  {
   "cell_type": "code",
   "execution_count": 25,
   "metadata": {},
   "outputs": [],
   "source": [
    "training_stage=train[list(selected_fields)+['num_visitors']].head(200)\n",
    "training_x=training_stage[selected_fields]\n",
    "training_y=training_stage['num_visitors']\n",
    "\n",
    "# use past 60 days to fit\n",
    "def MSE(model):\n",
    "    SE={}\n",
    "    for d in range(training_stage.shape[0]-60):\n",
    "        model.fit(training_x.iloc[d:d+60],training_y.iloc[d:d+60])\n",
    "        predict_x=np.array(training_x.iloc[d+60]).reshape((1,-1))\n",
    "        pred=model.predict(predict_x)\n",
    "        SE[d+61]=(pred-training_y.iloc[d+60])**2\n",
    "    MSE=sum(SE.values())/len(SE)\n",
    "    return MSE,model"
   ]
  },
  {
   "cell_type": "code",
   "execution_count": 26,
   "metadata": {},
   "outputs": [],
   "source": [
    "def min_mse_with_param(model_dic):\n",
    "    MSE_ls=[]\n",
    "    model_ls=[]\n",
    "    for k,v in model_dic.items():\n",
    "        model=v\n",
    "        MSE_ls.append(MSE(model)[0])\n",
    "        model_ls.append(MSE(model)[1])\n",
    "\n",
    "    min_mse=np.inf\n",
    "    for mse,mod in zip(MSE_ls,model_ls):\n",
    "        if mse<min_mse:\n",
    "            min_mse=mse\n",
    "            param=mod\n",
    "    return(min_mse,param)"
   ]
  },
  {
   "cell_type": "code",
   "execution_count": 27,
   "metadata": {},
   "outputs": [
    {
     "data": {
      "text/plain": [
       "(array([11.23388417]),\n",
       " LinearRegression(copy_X=True, fit_intercept=True, n_jobs=None, normalize=False))"
      ]
     },
     "execution_count": 27,
     "metadata": {},
     "output_type": "execute_result"
    }
   ],
   "source": [
    "min_mse_with_param(LR)"
   ]
  },
  {
   "cell_type": "code",
   "execution_count": 28,
   "metadata": {},
   "outputs": [
    {
     "data": {
      "text/plain": [
       "(array([11.19815045]),\n",
       " RandomForestRegressor(bootstrap=True, ccp_alpha=0.0, criterion='mse',\n",
       "                       max_depth=4, max_features=6, max_leaf_nodes=None,\n",
       "                       max_samples=None, min_impurity_decrease=0.0,\n",
       "                       min_impurity_split=None, min_samples_leaf=1,\n",
       "                       min_samples_split=2, min_weight_fraction_leaf=0.0,\n",
       "                       n_estimators=100, n_jobs=None, oob_score=False,\n",
       "                       random_state=None, verbose=0, warm_start=False))"
      ]
     },
     "execution_count": 28,
     "metadata": {},
     "output_type": "execute_result"
    }
   ],
   "source": [
    "min_mse_with_param(RF)"
   ]
  },
  {
   "cell_type": "code",
   "execution_count": 29,
   "metadata": {},
   "outputs": [
    {
     "data": {
      "text/plain": [
       "(array([12.94194043]),\n",
       " GradientBoostingRegressor(alpha=0.9, ccp_alpha=0.0, criterion='friedman_mse',\n",
       "                           init=None, learning_rate=0.1, loss='ls', max_depth=1,\n",
       "                           max_features=None, max_leaf_nodes=None,\n",
       "                           min_impurity_decrease=0.0, min_impurity_split=None,\n",
       "                           min_samples_leaf=1, min_samples_split=2,\n",
       "                           min_weight_fraction_leaf=0.0, n_estimators=100,\n",
       "                           n_iter_no_change=None, presort='deprecated',\n",
       "                           random_state=None, subsample=1.0, tol=0.0001,\n",
       "                           validation_fraction=0.1, verbose=0, warm_start=False))"
      ]
     },
     "execution_count": 29,
     "metadata": {},
     "output_type": "execute_result"
    }
   ],
   "source": [
    "min_mse_with_param(GRB)"
   ]
  },
  {
   "cell_type": "code",
   "execution_count": 30,
   "metadata": {},
   "outputs": [
    {
     "data": {
      "text/plain": [
       "(array([12.56721934]),\n",
       " MLPRegressor(activation='relu', alpha=0.0001, batch_size='auto', beta_1=0.9,\n",
       "              beta_2=0.999, early_stopping=False, epsilon=1e-08,\n",
       "              hidden_layer_sizes=3, learning_rate='adaptive',\n",
       "              learning_rate_init=0.001, max_fun=15000, max_iter=100000,\n",
       "              momentum=0.9, n_iter_no_change=10, nesterovs_momentum=True,\n",
       "              power_t=0.5, random_state=None, shuffle=True, solver='adam',\n",
       "              tol=0.0001, validation_fraction=0.1, verbose=False,\n",
       "              warm_start=False))"
      ]
     },
     "execution_count": 30,
     "metadata": {},
     "output_type": "execute_result"
    }
   ],
   "source": [
    "min_mse_with_param(NN)"
   ]
  },
  {
   "cell_type": "code",
   "execution_count": 31,
   "metadata": {},
   "outputs": [],
   "source": [
    "best_model=LinearRegression(copy_X=True, fit_intercept=True, n_jobs=None, normalize=False)"
   ]
  },
  {
   "cell_type": "markdown",
   "metadata": {},
   "source": [
    "## Step5: Apply on the OOT set\n",
    "\n",
    "Since the LinearRegression has the lowest MSE(11.233), we will use it as the final model.\n",
    "Now I used my final model to predict on the out of time data set to validate if the final model is still able to perform well. \n"
   ]
  },
  {
   "cell_type": "code",
   "execution_count": 32,
   "metadata": {},
   "outputs": [],
   "source": [
    "OOT_x=OOT[selected_fields]\n",
    "OOT_y=OOT['num_visitors']"
   ]
  },
  {
   "cell_type": "code",
   "execution_count": 33,
   "metadata": {},
   "outputs": [],
   "source": [
    "SE={}\n",
    "pred_dict={}\n",
    "\n",
    "for d in range(OOT.shape[0]-60):\n",
    "    best_model.fit(OOT_x.iloc[d:d+60],OOT_y.iloc[d:d+60])\n",
    "    predict_x=np.array(OOT_x.iloc[d+60]).reshape((1,-1))\n",
    "    pred=best_model.predict(predict_x)   \n",
    "#     print(OOT_x.iloc[d+60].name)\n",
    "#     print(best_model.coef_)\n",
    "#     print(d)\n",
    "#     print(pred)\n",
    "    pred_dict[d+61]=pred\n",
    "    SE[d+61]=(pred-OOT_y.iloc[d+60])**2"
   ]
  },
  {
   "cell_type": "code",
   "execution_count": 34,
   "metadata": {},
   "outputs": [
    {
     "name": "stdout",
     "output_type": "stream",
     "text": [
      "669\n",
      "669\n"
     ]
    }
   ],
   "source": [
    "print(len(pred_dict.values()))\n",
    "print(len(OOT_y.iloc[60:]))"
   ]
  },
  {
   "cell_type": "code",
   "execution_count": 35,
   "metadata": {},
   "outputs": [
    {
     "data": {
      "image/png": "[encoded data removed]",
      "text/plain": [
       "<Figure size 720x432 with 1 Axes>"
      ]
     },
     "metadata": {
      "needs_background": "light"
     },
     "output_type": "display_data"
    }
   ],
   "source": [
    "#actual y\n",
    "OOT_plot=OOT[['date','num_visitors']].iloc[60:]\n",
    "\n",
    "#predicted y\n",
    "temp_pred=[]\n",
    "for v in pred_dict.values():\n",
    "    temp_pred.append(v[0])\n",
    "    \n",
    "OOT_plot['pred_num']=temp_pred\n",
    "OOT_plot\n",
    "\n",
    "#visualize\n",
    "plt.figure(figsize=[10,6])\n",
    "plt.plot(OOT_plot['date'],OOT_plot['pred_num'],color='y', label='predicted')\n",
    "plt.plot(OOT_plot['date'],OOT_plot['num_visitors'], label='actual')\n",
    "\n",
    "plt.xlabel('date')\n",
    "plt.ylabel('num_visitors')\n",
    "plt.legend()\n",
    "plt.show()"
   ]
  },
  {
   "cell_type": "markdown",
   "metadata": {},
   "source": [
    "## Result: \n",
    "\n",
    "### Metric used to evaluate the result : MSE\n",
    "\n",
    "-  The visitors number at the end and at the beginning of the year is generally very hard to predict:\n",
    "\n",
    "The above green line shows the predicted num_visitors and the blue line is the actual num_visitors. The overall trend is correctly predicted. However,the prediction on late December and early January are hard. I found that ```the final MSE I got is ```**31.36**```, however, if I remove 2009-01-01, the MSE is would be ```**24.36**```; Either way, the performance is not as good as when we performed on the training set. The MSE of the Linear Regression model on the training set is ```**11.23**.\n",
    "\n",
    "\n",
    "\n",
    "## Future Work: \n",
    "\n",
    "- ***Use a bigger time window to train the data might be a way to improve the model stability:***\n",
    "\n",
    "I inspected the coefficients of the model everytime I fit a model using the past 60 days data to predict one day, and I realize that the coefficient fluctuation is big even though we only substitute one record at a time. Hence, using more data to fit a model might help us stablize the model prediction.\n",
    "\n",
    "- ***Try more engineered variables and different dimenionality reduction methods.***\n",
    "\n",
    "I used linear regression and perform backward elimination to cut down variables and only kept the top7 predictors. If the time allows, trying to build more variables and trying different filter and wrapper methods might improve the performance of the later models.\n",
    "\n"
   ]
  },
  {
   "cell_type": "code",
   "execution_count": 63,
   "metadata": {},
   "outputs": [
    {
     "data": {
      "text/html": [
       "<div>\n",
       "<style scoped>\n",
       "    .dataframe tbody tr th:only-of-type {\n",
       "        vertical-align: middle;\n",
       "    }\n",
       "\n",
       "    .dataframe tbody tr th {\n",
       "        vertical-align: top;\n",
       "    }\n",
       "\n",
       "    .dataframe thead th {\n",
       "        text-align: right;\n",
       "    }\n",
       "</style>\n",
       "<table border=\"1\" class=\"dataframe\">\n",
       "  <thead>\n",
       "    <tr style=\"text-align: right;\">\n",
       "      <th></th>\n",
       "      <th>date</th>\n",
       "      <th>num_visitors</th>\n",
       "      <th>pred_num</th>\n",
       "    </tr>\n",
       "  </thead>\n",
       "  <tbody>\n",
       "    <tr>\n",
       "      <th>3288</th>\n",
       "      <td>2009-01-01</td>\n",
       "      <td>62.831707</td>\n",
       "      <td>131.410613</td>\n",
       "    </tr>\n",
       "  </tbody>\n",
       "</table>\n",
       "</div>"
      ],
      "text/plain": [
       "           date  num_visitors    pred_num\n",
       "3288 2009-01-01     62.831707  131.410613"
      ]
     },
     "execution_count": 63,
     "metadata": {},
     "output_type": "execute_result"
    }
   ],
   "source": [
    "OOT_plot[OOT_plot['pred_num']==max(OOT_plot['pred_num'])]"
   ]
  },
  {
   "cell_type": "code",
   "execution_count": 175,
   "metadata": {},
   "outputs": [
    {
     "data": {
      "text/html": [
       "<div>\n",
       "<style scoped>\n",
       "    .dataframe tbody tr th:only-of-type {\n",
       "        vertical-align: middle;\n",
       "    }\n",
       "\n",
       "    .dataframe tbody tr th {\n",
       "        vertical-align: top;\n",
       "    }\n",
       "\n",
       "    .dataframe thead th {\n",
       "        text-align: right;\n",
       "    }\n",
       "</style>\n",
       "<table border=\"1\" class=\"dataframe\">\n",
       "  <thead>\n",
       "    <tr style=\"text-align: right;\">\n",
       "      <th></th>\n",
       "      <th>date</th>\n",
       "      <th>num_visitors</th>\n",
       "      <th>pred_num</th>\n",
       "    </tr>\n",
       "  </thead>\n",
       "  <tbody>\n",
       "    <tr>\n",
       "      <th>3283</th>\n",
       "      <td>2008-12-27</td>\n",
       "      <td>26.559677</td>\n",
       "      <td>24.702777</td>\n",
       "    </tr>\n",
       "    <tr>\n",
       "      <th>3284</th>\n",
       "      <td>2008-12-28</td>\n",
       "      <td>27.072110</td>\n",
       "      <td>25.523229</td>\n",
       "    </tr>\n",
       "    <tr>\n",
       "      <th>3285</th>\n",
       "      <td>2008-12-29</td>\n",
       "      <td>67.854310</td>\n",
       "      <td>26.737013</td>\n",
       "    </tr>\n",
       "    <tr>\n",
       "      <th>3286</th>\n",
       "      <td>2008-12-30</td>\n",
       "      <td>61.398950</td>\n",
       "      <td>20.902493</td>\n",
       "    </tr>\n",
       "    <tr>\n",
       "      <th>3287</th>\n",
       "      <td>2008-12-31</td>\n",
       "      <td>69.849130</td>\n",
       "      <td>60.836727</td>\n",
       "    </tr>\n",
       "    <tr>\n",
       "      <th>3288</th>\n",
       "      <td>2009-01-01</td>\n",
       "      <td>62.831707</td>\n",
       "      <td>131.410613</td>\n",
       "    </tr>\n",
       "    <tr>\n",
       "      <th>3289</th>\n",
       "      <td>2009-01-02</td>\n",
       "      <td>68.973970</td>\n",
       "      <td>62.367640</td>\n",
       "    </tr>\n",
       "  </tbody>\n",
       "</table>\n",
       "</div>"
      ],
      "text/plain": [
       "           date  num_visitors    pred_num\n",
       "3283 2008-12-27     26.559677   24.702777\n",
       "3284 2008-12-28     27.072110   25.523229\n",
       "3285 2008-12-29     67.854310   26.737013\n",
       "3286 2008-12-30     61.398950   20.902493\n",
       "3287 2008-12-31     69.849130   60.836727\n",
       "3288 2009-01-01     62.831707  131.410613\n",
       "3289 2009-01-02     68.973970   62.367640"
      ]
     },
     "execution_count": 175,
     "metadata": {},
     "output_type": "execute_result"
    }
   ],
   "source": [
    "OOT_plot[OOT_plot['date']>'2008-12-26'].head(7)"
   ]
  },
  {
   "cell_type": "code",
   "execution_count": 166,
   "metadata": {},
   "outputs": [
    {
     "data": {
      "text/html": [
       "<div>\n",
       "<style scoped>\n",
       "    .dataframe tbody tr th:only-of-type {\n",
       "        vertical-align: middle;\n",
       "    }\n",
       "\n",
       "    .dataframe tbody tr th {\n",
       "        vertical-align: top;\n",
       "    }\n",
       "\n",
       "    .dataframe thead th {\n",
       "        text-align: right;\n",
       "    }\n",
       "</style>\n",
       "<table border=\"1\" class=\"dataframe\">\n",
       "  <thead>\n",
       "    <tr style=\"text-align: right;\">\n",
       "      <th></th>\n",
       "      <th>date</th>\n",
       "      <th>num_visitors</th>\n",
       "      <th>pred_num</th>\n",
       "    </tr>\n",
       "  </thead>\n",
       "  <tbody>\n",
       "    <tr>\n",
       "      <th>3650</th>\n",
       "      <td>2009-12-29</td>\n",
       "      <td>66.11884</td>\n",
       "      <td>28.521418</td>\n",
       "    </tr>\n",
       "  </tbody>\n",
       "</table>\n",
       "</div>"
      ],
      "text/plain": [
       "           date  num_visitors   pred_num\n",
       "3650 2009-12-29      66.11884  28.521418"
      ]
     },
     "execution_count": 166,
     "metadata": {},
     "output_type": "execute_result"
    }
   ],
   "source": [
    "OOT_plot[OOT_plot['date']>'2009-12-28']"
   ]
  },
  {
   "cell_type": "code",
   "execution_count": 60,
   "metadata": {},
   "outputs": [
    {
     "data": {
      "text/plain": [
       "31.36109003363726"
      ]
     },
     "execution_count": 60,
     "metadata": {},
     "output_type": "execute_result"
    }
   ],
   "source": [
    "temp_SE=[]\n",
    "for v in SE.values():\n",
    "    temp_SE.append(v[0])\n",
    "sum(temp_SE)/len(temp_SE)"
   ]
  },
  {
   "cell_type": "code",
   "execution_count": 177,
   "metadata": {},
   "outputs": [
    {
     "data": {
      "text/plain": [
       "24.367519287943846"
      ]
     },
     "execution_count": 177,
     "metadata": {},
     "output_type": "execute_result"
    }
   ],
   "source": [
    "(sum(temp_SE)-(131.410613-62.831707)**2)/(len(temp_SE)-1)"
   ]
  },
  {
   "cell_type": "code",
   "execution_count": null,
   "metadata": {},
   "outputs": [],
   "source": []
  }
 ],
 "metadata": {
  "kernelspec": {
   "display_name": "Python 3",
   "language": "python",
   "name": "python3"
  },
  "language_info": {
   "codemirror_mode": {
    "name": "ipython",
    "version": 3
   },
   "file_extension": ".py",
   "mimetype": "text/x-python",
   "name": "python",
   "nbconvert_exporter": "python",
   "pygments_lexer": "ipython3",
   "version": "3.7.6"
  }
 },
 "nbformat": 4,
 "nbformat_minor": 2
}
